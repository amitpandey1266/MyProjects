{
 "cells": [
  {
   "cell_type": "code",
   "execution_count": 1,
   "metadata": {},
   "outputs": [
    {
     "name": "stdout",
     "output_type": "stream",
     "text": [
      "Enter your Name\n",
      "Amit Pandey\n",
      "Enter Name of your partner\n",
      "Shreya \n",
      "You have entered 1st name: Amit Pandey & 2nd name: Shreya \n",
      "T is 1 times\n",
      "R is 1 times\n",
      "U is 0 times\n",
      "E is 2 times\n",
      "Total = 4\n",
      "L is 0 times\n",
      "O is 0 times\n",
      "V is 0 times\n",
      "E is 2 times\n",
      "Total = 2\n",
      "Your Love Score is : 42%\n",
      "As Your Love Score is 42, you need to enjoy your relationship with your partner\n"
     ]
    }
   ],
   "source": [
    "Name1 = input(\"Enter your Name\\n\")\n",
    "Name2 = input(\"Enter Name of your partner\\n\")\n",
    "print(f\"You have entered 1st name: {Name1} & 2nd name: {Name2}\")\n",
    "Combined_Name = (Name1 + Name2).lower()\n",
    "T = Combined_Name.count(\"t\")\n",
    "R = Combined_Name.count(\"r\")\n",
    "U = Combined_Name.count(\"u\")\n",
    "E = Combined_Name.count(\"e\")\n",
    "L = Combined_Name.count(\"l\")\n",
    "O = Combined_Name.count(\"o\")\n",
    "V = Combined_Name.count(\"v\")\n",
    "E = Combined_Name.count(\"e\")\n",
    "print(f\"T is {T} times\")\n",
    "print(f\"R is {R} times\")\n",
    "print(f\"U is {U} times\")\n",
    "print(f\"E is {E} times\")\n",
    "Tot1 = T + R + U + E\n",
    "print(f\"Total = {Tot1}\")\n",
    "print(f\"L is {L} times\")\n",
    "print(f\"O is {O} times\")\n",
    "print(f\"V is {V} times\")\n",
    "print(f\"E is {E} times\")\n",
    "Tot2 = L + O + V + E\n",
    "print(f\"Total = {Tot2}\")\n",
    "LoveScore = int(str(Tot1)+str(Tot2))\n",
    "print(f\"Your Love Score is : {LoveScore}%\")\n",
    "if LoveScore > 90 or LoveScore <10:\n",
    "    print(f\"As Your Love Score {LoveScore} is on extreme side, you need to take care\")\n",
    "elif LoveScore > 70 & LoveScore <= 90:\n",
    "    print(f\"As Your Love Score is {LoveScore}, you need to enjoy your relationship with your partner\")\n",
    "elif LoveScore >= 40 & LoveScore <= 70:\n",
    "    print(f\"As Your Love Score is {LoveScore}, have a healthy relationship\")\n",
    "else:\n",
    "    print(f\"As Your Love Score is {LoveScore}, Best Wishes for your relationship\")"
   ]
  },
  {
   "cell_type": "code",
   "execution_count": null,
   "metadata": {},
   "outputs": [],
   "source": []
  }
 ],
 "metadata": {
  "kernelspec": {
   "display_name": "Python 3",
   "language": "python",
   "name": "python3"
  },
  "language_info": {
   "codemirror_mode": {
    "name": "ipython",
    "version": 3
   },
   "file_extension": ".py",
   "mimetype": "text/x-python",
   "name": "python",
   "nbconvert_exporter": "python",
   "pygments_lexer": "ipython3",
   "version": "3.8.3"
  }
 },
 "nbformat": 4,
 "nbformat_minor": 4
}
