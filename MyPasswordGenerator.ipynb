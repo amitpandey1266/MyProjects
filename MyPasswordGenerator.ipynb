{
 "cells": [
  {
   "cell_type": "code",
   "execution_count": 149,
   "metadata": {},
   "outputs": [
    {
     "name": "stdout",
     "output_type": "stream",
     "text": [
      "Welcome to a Robust Password Generator!\n",
      "How many alphabets would you like in your password?\n",
      "4\n",
      "How many symbols would you like in your password?\n",
      "3\n",
      "How many numbers would you like in your password?\n",
      "3\n"
     ]
    }
   ],
   "source": [
    "#Password Generator Project\n",
    "import random\n",
    "letters = ['a', 'b', 'c', 'd', 'e', 'f', 'g', 'h', 'i', 'j', 'k', 'l', 'm', 'n', 'o', 'p', 'q', 'r', 's', 't', 'u', 'v', 'w', 'x', 'y', 'z', 'A', 'B', 'C', 'D', 'E', 'F', 'G', 'H', 'I', 'J', 'K', 'L', 'M', 'N', 'O', 'P', 'Q', 'R', 'S', 'T', 'U', 'V', 'W', 'X', 'Y', 'Z']\n",
    "numbers = ['0', '1', '2', '3', '4', '5', '6', '7', '8', '9']\n",
    "symbols = ['!', '#', '$', '%', '&', '(', ')', '*', '+']\n",
    "\n",
    "print(\"Welcome to a Robust Password Generator!\")\n",
    "nr_letters= int(input(\"How many alphabets would you like in your password?\\n\")) \n",
    "nr_symbols = int(input(f\"How many symbols would you like in your password?\\n\"))\n",
    "nr_numbers = int(input(f\"How many numbers would you like in your password?\\n\"))\n",
    "\n",
    "#Eazy Level - Order not randomised:\n",
    "#e.g. 4 letter, 2 symbol, 2 number = JduE&!91\n",
    "\n",
    "\n",
    "#Hard Level - Order of characters randomised:\n",
    "#e.g. 4 letter, 2 symbol, 2 number = g^2jk8&P"
   ]
  },
  {
   "cell_type": "code",
   "execution_count": 78,
   "metadata": {},
   "outputs": [
    {
     "name": "stdout",
     "output_type": "stream",
     "text": [
      "Your Password is : rcSB74*%\n"
     ]
    }
   ],
   "source": [
    "#Easy One\n",
    "x= (random.sample(letters,nr_letters) + random.sample(numbers,nr_numbers) + random.sample(symbols,nr_symbols))\n",
    "Final_Password = \"\".join(x)\n",
    "print(f\"Your Password is : {Final_Password}\")"
   ]
  },
  {
   "cell_type": "code",
   "execution_count": 150,
   "metadata": {},
   "outputs": [
    {
     "name": "stdout",
     "output_type": "stream",
     "text": [
      "Your Strong Password is :  ywuS+(!435\n"
     ]
    }
   ],
   "source": [
    "#Easy Ways\n",
    "password =\" \"\n",
    "for char in range(1,nr_letters +1):\n",
    "    password += random.choice(letters)\n",
    "for char in range(1,nr_symbols +1):\n",
    "    password+= random.choice(symbols)\n",
    "for char in range(1, nr_numbers +1):\n",
    "    password += random.choice(numbers)\n",
    "print(f\"Your Strong Password is : {password}\")    "
   ]
  },
  {
   "cell_type": "code",
   "execution_count": 151,
   "metadata": {},
   "outputs": [
    {
     "name": "stdout",
     "output_type": "stream",
     "text": [
      "Your Easy Password is : exwR$!%093\n",
      "Your Strong Password is : x!30$e9%Rw\n"
     ]
    }
   ],
   "source": [
    "#Final Code\n",
    "#Hard Ways\n",
    "password_list =[]\n",
    "for char in range(1,nr_letters +1):\n",
    "    password_list += random.choice(letters)\n",
    "for char in range(1,nr_symbols +1):\n",
    "    password_list+= random.choice(symbols)\n",
    "for char in range(1, nr_numbers +1):\n",
    "    password_list += random.choice(numbers)\n",
    "password =''.join(password_list)\n",
    "print(f\"Your Easy Password is : {password}\")\n",
    "random.shuffle(password_list)\n",
    "strong_pwd = ''.join(password_list)\n",
    "print(f\"Your Strong Password is : {strong_pwd}\")   "
   ]
  },
  {
   "cell_type": "code",
   "execution_count": null,
   "metadata": {},
   "outputs": [],
   "source": []
  },
  {
   "cell_type": "code",
   "execution_count": null,
   "metadata": {},
   "outputs": [],
   "source": []
  },
  {
   "cell_type": "code",
   "execution_count": null,
   "metadata": {},
   "outputs": [],
   "source": []
  },
  {
   "cell_type": "code",
   "execution_count": 122,
   "metadata": {},
   "outputs": [
    {
     "name": "stdout",
     "output_type": "stream",
     "text": [
      "Your Strong Password is : yy*y D9c*5\n"
     ]
    }
   ],
   "source": [
    "x= random.choices(password, k = len(password)+1)\n",
    "password = \"\".join(x)\n",
    "print(f\"Your Strong Password is : {password}\")  "
   ]
  },
  {
   "cell_type": "code",
   "execution_count": 85,
   "metadata": {},
   "outputs": [
    {
     "data": {
      "text/plain": [
       "8"
      ]
     },
     "execution_count": 85,
     "metadata": {},
     "output_type": "execute_result"
    }
   ],
   "source": [
    "#Tricky One\n",
    "y = nr_letters + nr_numbers + nr_symbols\n",
    "y\n",
    "# x= (random.sample(letters,nr_letters) + random.sample(numbers,nr_numbers) + random.sample(symbols,nr_symbols))\n",
    "# x= random.choice(x,k=y)\n",
    "# Final_Password = \"\".join(x)\n",
    "# print(f\"Your Password is : {Final_Password}\")"
   ]
  },
  {
   "cell_type": "code",
   "execution_count": null,
   "metadata": {},
   "outputs": [],
   "source": []
  }
 ],
 "metadata": {
  "kernelspec": {
   "display_name": "Python 3",
   "language": "python",
   "name": "python3"
  },
  "language_info": {
   "codemirror_mode": {
    "name": "ipython",
    "version": 3
   },
   "file_extension": ".py",
   "mimetype": "text/x-python",
   "name": "python",
   "nbconvert_exporter": "python",
   "pygments_lexer": "ipython3",
   "version": "3.8.3"
  }
 },
 "nbformat": 4,
 "nbformat_minor": 4
}
